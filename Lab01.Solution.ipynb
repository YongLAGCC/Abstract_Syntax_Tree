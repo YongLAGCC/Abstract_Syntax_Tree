{
 "cells": [
  {
   "cell_type": "markdown",
   "metadata": {},
   "source": [
    "# Lab 1:  Finite-State Automata and Lexical Analysis"
   ]
  },
  {
   "cell_type": "markdown",
   "metadata": {},
   "source": [
    "## Finite State Automata"
   ]
  },
  {
   "cell_type": "markdown",
   "metadata": {},
   "source": [
    "Write a python function that accepts the same strings as the DFA presented.\n"
   ]
  },
  {
   "cell_type": "markdown",
   "metadata": {},
   "source": [
    "![ab*(c|d)](http://www.cs.bu.edu/fac/snyder/cs320/Homeworks/Lab01.Diagram.jpg \"ab*(c|d)\")\n"
   ]
  },
  {
   "cell_type": "code",
   "execution_count": 11,
   "metadata": {
    "collapsed": true
   },
   "outputs": [],
   "source": [
    "def legal_example_dfa(string, verbose=True):\n",
    "    state = \"start\"\n",
    "    if verbose: print(state, end='')\n",
    "\n",
    "    for letter in string:\n",
    "\n",
    "        if state == \"start\" and letter == 'a':\n",
    "            state = \"read_b\"\n",
    "        elif state == \"read_b\" and letter == 'b':\n",
    "            state = \"read_b\"  # redundant\n",
    "        elif state == \"read_b\" and (letter == 'c' or letter == 'd'):\n",
    "            state = \"accept\"\n",
    "        elif state == \"accept\":                 \n",
    "            state = \"reject\"\n",
    "        else:\n",
    "            state = \"reject\"\n",
    "\n",
    "        if verbose: print(', ' + letter + '->' + str(state), end='')\n",
    "    if verbose: print()\n",
    "    return state == \"accept\""
   ]
  },
  {
   "cell_type": "markdown",
   "metadata": {},
   "source": [
    "Test the function to make sure it works!"
   ]
  },
  {
   "cell_type": "code",
   "execution_count": 12,
   "metadata": {},
   "outputs": [
    {
     "name": "stdout",
     "output_type": "stream",
     "text": [
      "start, a->read_b, b->read_b, b->read_b, d->accept\n",
      "start, a->read_b, c->accept\n",
      "start, a->read_b, b->read_b, b->read_b, b->read_b, b->read_b, b->read_b, b->read_b, d->accept\n",
      "start, a->read_b, b->read_b, b->read_b, d->accept, d->reject\n",
      "start, a->read_b, c->accept, d->reject\n",
      "start, a->read_b, d->accept, c->reject, b->reject, b->reject, b->reject, b->reject\n",
      "start, a->read_b\n"
     ]
    }
   ],
   "source": [
    "assert (    legal_example_dfa('abbd'))\n",
    "assert (    legal_example_dfa('ac'))\n",
    "assert (    legal_example_dfa('abbbbbbd'))\n",
    "assert (not legal_example_dfa('abbdd'))\n",
    "assert (not legal_example_dfa('acd'))\n",
    "assert (not legal_example_dfa('adcbbbb'))\n",
    "assert (not legal_example_dfa('a'))"
   ]
  },
  {
   "cell_type": "markdown",
   "metadata": {},
   "source": [
    "We can also encode the DFA as a transition table"
   ]
  },
  {
   "cell_type": "markdown",
   "metadata": {},
   "source": [
    "### DFAs as transition tables"
   ]
  },
  {
   "cell_type": "code",
   "execution_count": 4,
   "metadata": {
    "collapsed": true
   },
   "outputs": [],
   "source": [
    "transition_table = {1: {'a': 2, 'b': 4, 'c': 4, 'd': 4},\n",
    "                    2: {'a': 4, 'b': 2, 'c': 3, 'd': 3},\n",
    "                    3: {'a': 4, 'b': 4, 'c': 4, 'd': 4},\n",
    "                    4: {'a': 4, 'b': 4, 'c': 4, 'd': 4}}"
   ]
  },
  {
   "cell_type": "markdown",
   "metadata": {},
   "source": [
    "What is the alphabet of this language?"
   ]
  },
  {
   "cell_type": "code",
   "execution_count": 5,
   "metadata": {
    "collapsed": true
   },
   "outputs": [],
   "source": [
    "alphabet = {'a', 'b', 'c', 'd'}"
   ]
  },
  {
   "cell_type": "markdown",
   "metadata": {},
   "source": [
    "Every state must handle every character in the alphabet"
   ]
  },
  {
   "cell_type": "code",
   "execution_count": 6,
   "metadata": {
    "collapsed": true
   },
   "outputs": [],
   "source": [
    "for state in transition_table:\n",
    "    assert (set(transition_table[state].keys()) == alphabet)"
   ]
  },
  {
   "cell_type": "markdown",
   "metadata": {},
   "source": [
    "What are the states in ```transition_table```?"
   ]
  },
  {
   "cell_type": "code",
   "execution_count": 7,
   "metadata": {
    "collapsed": true
   },
   "outputs": [],
   "source": [
    "states = {1, 2, 3, 4}"
   ]
  },
  {
   "cell_type": "markdown",
   "metadata": {},
   "source": [
    "Every state must be in the table, and characters can only map to states"
   ]
  },
  {
   "cell_type": "code",
   "execution_count": 8,
   "metadata": {
    "collapsed": true
   },
   "outputs": [],
   "source": [
    "assert (set(transition_table.keys()) == states)\n",
    "for state in states:\n",
    "    assert (set(transition_table[state].keys()) == alphabet)\n",
    "    assert (set(transition_table[state].values()).issubset(states))"
   ]
  },
  {
   "cell_type": "markdown",
   "metadata": {},
   "source": [
    "Simlarly, how can we encode the DFA that defines a wellformated dollar amount? (warning, you may need to copy and paste a bit)"
   ]
  },
  {
   "cell_type": "code",
   "execution_count": 9,
   "metadata": {
    "collapsed": true
   },
   "outputs": [],
   "source": [
    "dollar_table = {\n",
    "    \"start\":   {'$': \"dollars\", '.': \"reject\", '0': \"reject\",  '1': \"reject\",  '2': \"reject\",  '3': \"reject\",  '4': \"reject\",  '5': \"reject\",  '6': \"reject\",  '7': \"reject\",  '8': \"reject\",  '9': \"reject\"},\n",
    "    \"dollars\": {'$': \"reject\",  '.': \"cent1\",  '0': \"dollars\", '1': \"dollars\", '2': \"dollars\", '3': \"dollars\", '4': \"dollars\", '5': \"dollars\", '6': \"dollars\", '7': \"dollars\", '8': \"dollars\", '9': \"dollars\"},\n",
    "    \"cent1\":   {'$': \"reject\",  '.': \"reject\", '0': \"cent2\",   '1': \"cent2\",   '2': \"cent2\",   '3': \"cent2\",   '4': \"cent2\",   '5': \"cent2\",   '6': \"cent2\",   '7': \"cent2\",   '8': \"cent2\",   '9': \"cent2\"},\n",
    "    \"cent2\":   {'$': \"reject\",  '.': \"reject\", '0': \"accept\",  '1': \"accept\",  '2': \"accept\",  '3': \"accept\",  '4': \"accept\",  '5': \"accept\",  '6': \"accept\",  '7': \"accept\",  '8': \"accept\",  '9': \"accept\"},\n",
    "    \"accept\":  {'$': \"reject\",  '.': \"reject\", '0': \"reject\",  '1': \"reject\",  '2': \"reject\",  '3': \"reject\",  '4': \"reject\",  '5': \"reject\",  '6': \"reject\",  '7': \"reject\",  '8': \"reject\",  '9': \"reject\"},\n",
    "    \"reject\":  {'$': \"reject\",  '.': \"reject\", '0': \"reject\",  '1': \"reject\",  '2': \"reject\",  '3': \"reject\",  '4': \"reject\",  '5': \"reject\",  '6': \"reject\",  '7': \"reject\",  '8': \"reject\",  '9': \"reject\"}}"
   ]
  },
  {
   "cell_type": "markdown",
   "metadata": {},
   "source": [
    "What is the alphabet? What are the transitions?"
   ]
  },
  {
   "cell_type": "code",
   "execution_count": 10,
   "metadata": {
    "collapsed": true
   },
   "outputs": [],
   "source": [
    "states = {\"start\", \"dollars\", \"cent1\", \"cent2\", \"accept\", \"reject\"}\n",
    "alphabet = {'$', '.', '0', '1', '2', '3', '4', '5', '6', '7', '8', '9'}"
   ]
  },
  {
   "cell_type": "code",
   "execution_count": 11,
   "metadata": {
    "collapsed": true
   },
   "outputs": [],
   "source": [
    "assert (set(dollar_table.keys()) == states)\n",
    "for state in states:\n",
    "    assert (set(dollar_table[state].keys()) == alphabet)\n",
    "    assert (set(dollar_table[state].values()).issubset(states))"
   ]
  },
  {
   "cell_type": "markdown",
   "metadata": {},
   "source": [
    "### Parsing DFAs"
   ]
  },
  {
   "cell_type": "markdown",
   "metadata": {},
   "source": [
    "Write a general function that takes a transition table and determines if the string is accepted by that regular language"
   ]
  },
  {
   "cell_type": "code",
   "execution_count": 12,
   "metadata": {
    "collapsed": true
   },
   "outputs": [],
   "source": [
    "def accepts(string, table, start_state, accept_states, verbose=True):\n",
    "    state = start_state\n",
    "    if verbose: print(state, end='')\n",
    "    for letter in string:\n",
    "        state = table[state][letter]\n",
    "        if verbose: print(', ' + letter + '->' + str(state), end='')\n",
    "    # This can be used to short-circuit when a failure occurs\n",
    "    #        if state == error_state:\n",
    "    #            if verbose: print()\n",
    "    #            return False\n",
    "    if verbose: print()\n",
    "    return (state in accept_states)"
   ]
  },
  {
   "cell_type": "markdown",
   "metadata": {},
   "source": [
    "It should accept and reject the strings we expect"
   ]
  },
  {
   "cell_type": "code",
   "execution_count": 13,
   "metadata": {},
   "outputs": [
    {
     "name": "stdout",
     "output_type": "stream",
     "text": [
      "1, a->2, b->2, b->2, d->3\n",
      "1, a->2, c->3\n",
      "1, a->2, b->2, b->2, b->2, b->2, b->2, b->2, d->3\n",
      "1, a->2, b->2, b->2, d->3, d->4\n",
      "1, a->2, c->3, d->4\n",
      "1, a->2, d->3, c->4, b->4, b->4, b->4, b->4\n",
      "1, a->2\n",
      "1\n"
     ]
    }
   ],
   "source": [
    "assert (    accepts('abbd',     transition_table, 1, {3}))\n",
    "assert (    accepts('ac',       transition_table, 1, {3}))\n",
    "assert (    accepts('abbbbbbd', transition_table, 1, {3}))\n",
    "assert (not accepts('abbdd',    transition_table, 1, {3}))\n",
    "assert (not accepts('acd',      transition_table, 1, {3}))\n",
    "assert (not accepts('adcbbbb',  transition_table, 1, {3}))\n",
    "assert (not accepts('a',        transition_table, 1, {3}))\n",
    "assert (not accepts('',         transition_table, 1, {3}))"
   ]
  },
  {
   "cell_type": "markdown",
   "metadata": {},
   "source": [
    "Create a function that will accept or reject pretty printed dollars using your function and your transition table"
   ]
  },
  {
   "cell_type": "code",
   "execution_count": 16,
   "metadata": {
    "collapsed": true
   },
   "outputs": [],
   "source": [
    "def is_dollar(string):\n",
    "    return accepts(string, dollar_table, \"start\", {\"accept\"})"
   ]
  },
  {
   "cell_type": "markdown",
   "metadata": {},
   "source": [
    "It should also work as we expect"
   ]
  },
  {
   "cell_type": "code",
   "execution_count": 15,
   "metadata": {},
   "outputs": [
    {
     "name": "stdout",
     "output_type": "stream",
     "text": [
      "start, $->dollars, 1->dollars, 2->dollars, 3->dollars, .->cent1, 4->cent2, 5->accept\n",
      "start, $->dollars, .->cent1, 4->cent2, 5->accept\n",
      "start, $->dollars, 0->dollars, 0->dollars, 0->dollars, 0->dollars, 1->dollars, 1->dollars, 1->dollars, 1->dollars, 1->dollars, .->cent1, 4->cent2, 5->accept\n",
      "start, $->dollars, 1->dollars, 2->dollars, 3->dollars, 4->dollars, 5->dollars, 6->dollars, 7->dollars, 8->dollars, 9->dollars, 0->dollars, .->cent1, 4->cent2, 5->accept\n",
      "start\n",
      "start, 0->reject, 0->reject, 0->reject, 0->reject, 1->reject, 1->reject, 1->reject, 1->reject, 1->reject, .->reject, 4->reject, 5->reject\n",
      "start, $->dollars, 0->dollars, 0->dollars, 0->dollars, 0->dollars, 1->dollars, 1->dollars, 1->dollars, 1->dollars, 1->dollars, 4->dollars, 5->dollars\n",
      "start, $->dollars, 0->dollars, 0->dollars, 0->dollars, 0->dollars, 1->dollars, 1->dollars, 1->dollars, 1->dollars, 1->dollars, .->cent1, 4->cent2\n",
      "start, $->dollars, 0->dollars, 0->dollars, 0->dollars, 0->dollars, 1->dollars, 1->dollars, 1->dollars, 1->dollars, 1->dollars, .->cent1, 4->cent2, 5->accept, 6->reject\n"
     ]
    }
   ],
   "source": [
    "assert (    is_dollar(\"$123.45\"))\n",
    "assert (    is_dollar(\"$.45\"))\n",
    "assert (    is_dollar(\"$000011111.45\"))\n",
    "assert (    is_dollar(\"$1234567890.45\"))\n",
    "assert (not is_dollar(\"\"))\n",
    "assert (not is_dollar(\"000011111.45\"))\n",
    "assert (not is_dollar(\"$00001111145\"))\n",
    "assert (not is_dollar(\"$000011111.4\"))\n",
    "assert (not is_dollar(\"$000011111.456\"))"
   ]
  }
 ],
 "metadata": {
  "kernelspec": {
   "display_name": "Python 3",
   "language": "python",
   "name": "python3"
  },
  "language_info": {
   "codemirror_mode": {
    "name": "ipython",
    "version": 3
   },
   "file_extension": ".py",
   "mimetype": "text/x-python",
   "name": "python",
   "nbconvert_exporter": "python",
   "pygments_lexer": "ipython3",
   "version": "3.6.1"
  }
 },
 "nbformat": 4,
 "nbformat_minor": 2
}
